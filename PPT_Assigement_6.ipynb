{
  "nbformat": 4,
  "nbformat_minor": 0,
  "metadata": {
    "colab": {
      "provenance": [],
      "authorship_tag": "ABX9TyMKcMJXIdwddeRwRmJrFY/W",
      "include_colab_link": true
    },
    "kernelspec": {
      "name": "python3",
      "display_name": "Python 3"
    },
    "language_info": {
      "name": "python"
    }
  },
  "cells": [
    {
      "cell_type": "markdown",
      "metadata": {
        "id": "view-in-github",
        "colab_type": "text"
      },
      "source": [
        "<a href=\"https://colab.research.google.com/github/Vaibhav074N/PPT-Assigement-6/blob/main/PPT_Assigement_6.ipynb\" target=\"_parent\"><img src=\"https://colab.research.google.com/assets/colab-badge.svg\" alt=\"Open In Colab\"/></a>"
      ]
    },
    {
      "cell_type": "markdown",
      "source": [
        "<aside>\n",
        "💡 **Question 1**\n",
        "\n",
        "A permutation perm of n + 1 integers of all the integers in the range [0, n] can be represented as a string s of length n where:\n",
        "\n",
        "- s[i] == 'I' if perm[i] < perm[i + 1], and\n",
        "- s[i] == 'D' if perm[i] > perm[i + 1].\n",
        "\n",
        "Given a string s, reconstruct the permutation perm and return it. If there are multiple valid permutations perm, return **any of them**.\n",
        "\n",
        "**Example 1:**\n",
        "\n",
        "**Input:** s = \"IDID\"\n",
        "\n",
        "**Output:**\n",
        "\n",
        "[0,4,1,3,2]\n",
        "\n",
        "</aside>"
      ],
      "metadata": {
        "id": "oIpNp2mspNjH"
      }
    },
    {
      "cell_type": "code",
      "execution_count": 1,
      "metadata": {
        "id": "UcLIFj4Qo2A8",
        "colab": {
          "base_uri": "https://localhost:8080/"
        },
        "outputId": "3320be36-4291-4166-ba31-a66d09781c58"
      },
      "outputs": [
        {
          "output_type": "stream",
          "name": "stdout",
          "text": [
            "[4, 2, 1, 3, 5]\n"
          ]
        }
      ],
      "source": [
        "def findPermutation(s):\n",
        "    n = len(s)\n",
        "    m = 1\n",
        "    perm = []\n",
        "\n",
        "    for c in s:\n",
        "        if c == 'I':\n",
        "            perm.append(m)\n",
        "            m += 1\n",
        "        elif c == 'D':\n",
        "            perm.insert(0, m)\n",
        "            m += 1\n",
        "\n",
        "    perm.append(m)\n",
        "\n",
        "    return perm\n",
        "\n",
        "s = \"IDID\"\n",
        "print(findPermutation(s))"
      ]
    },
    {
      "cell_type": "markdown",
      "source": [
        "<aside>\n",
        "💡 **Question 2**\n",
        "\n",
        "You are given an m x n integer matrix matrix with the following two properties:\n",
        "\n",
        "- Each row is sorted in non-decreasing order.\n",
        "- The first integer of each row is greater than the last integer of the previous row.\n",
        "\n",
        "Given an integer target, return true *if* target *is in* matrix *or* false *otherwise*.\n",
        "\n",
        "You must write a solution in O(log(m * n)) time complexity.\n",
        "\n",
        "**Example 1:**\n",
        "\n",
        "</aside>\n",
        "\n",
        "**Input:** matrix = [[1,3,5,7],[10,11,16,20],[23,30,34,60]], target = 3\n",
        "\n",
        "**Output:** true"
      ],
      "metadata": {
        "id": "KV5xYQnPpOC3"
      }
    },
    {
      "cell_type": "code",
      "source": [
        "def f(mat,target):\n",
        "    m=len(mat[0])\n",
        "    for i in range(m-1):\n",
        "        for i in mat[i]:\n",
        "            if i==target:\n",
        "                return \"True\"\n",
        "    return \"False\"\n",
        "\n",
        "mat=[\n",
        "    [1,3,5,7],\n",
        "    [10,11,16,20],\n",
        "    [23,30,34,60]\n",
        "]\n",
        "target=3\n",
        "print(f(mat,target))"
      ],
      "metadata": {
        "id": "qRJp3z_VpOYe",
        "colab": {
          "base_uri": "https://localhost:8080/"
        },
        "outputId": "e3ea38b9-d2ed-4317-e7cf-b93127a863fb"
      },
      "execution_count": 2,
      "outputs": [
        {
          "output_type": "stream",
          "name": "stdout",
          "text": [
            "True\n"
          ]
        }
      ]
    },
    {
      "cell_type": "code",
      "source": [
        "def mat(matrix, target):\n",
        "    m, n = len(matrix), len(matrix[0])\n",
        "    left, right = 0, m * n - 1\n",
        "\n",
        "    while left <= right:\n",
        "        mid = (left + right) // 2\n",
        "        row, col = mid // n, mid % n\n",
        "\n",
        "        if matrix[row][col] == target:\n",
        "            return True\n",
        "        elif matrix[row][col] < target:\n",
        "            left = mid + 1\n",
        "        else:\n",
        "            right = mid - 1\n",
        "\n",
        "    return False\n",
        "\n",
        "\n",
        "mat=[\n",
        "    [1,3,5,7],\n",
        "    [10,11,16,20],\n",
        "    [23,30,34,60]\n",
        "]\n",
        "target=3\n",
        "print(f(mat,target))"
      ],
      "metadata": {
        "colab": {
          "base_uri": "https://localhost:8080/"
        },
        "id": "VjK7gLY5_m5U",
        "outputId": "e717963b-1844-4954-8894-b550424b6183"
      },
      "execution_count": 3,
      "outputs": [
        {
          "output_type": "stream",
          "name": "stdout",
          "text": [
            "True\n"
          ]
        }
      ]
    },
    {
      "cell_type": "markdown",
      "source": [
        "<aside>\n",
        "💡 **Question 3**\n",
        "\n",
        "Given an array of integers arr, return *true if and only if it is a valid mountain array*.\n",
        "\n",
        "Recall that arr is a mountain array if and only if:\n",
        "\n",
        "- arr.length >= 3\n",
        "- There exists some i with 0 < i < arr.length - 1 such that:\n",
        "    - arr[0] < arr[1] < ... < arr[i - 1] < arr[i]\n",
        "    - arr[i] > arr[i + 1] > ... > arr[arr.length - 1]\n",
        "</aside>\n",
        "\n",
        "**Example 1:**\n",
        "\n",
        "**Input:** arr = [2,1]\n",
        "\n",
        "**Output:**\n",
        "\n",
        "false"
      ],
      "metadata": {
        "id": "7Z-yus8wpO0f"
      }
    },
    {
      "cell_type": "code",
      "source": [
        "def validMountainArray(arr):\n",
        "    n = len(arr)\n",
        "    if n < 3:\n",
        "        return False\n",
        "\n",
        "    peak = max(arr)\n",
        "    peak_idx = arr.index(peak)\n",
        "\n",
        "    if peak_idx == 0 or peak_idx == n - 1:\n",
        "        return False\n",
        "\n",
        "    for i in range(1, peak_idx):\n",
        "        if arr[i] <= arr[i - 1]:\n",
        "            return False\n",
        "\n",
        "    for i in range(peak_idx + 1, n):\n",
        "        if arr[i] >= arr[i - 1]:\n",
        "            return False\n",
        "\n",
        "    return True\n",
        "\n",
        "arr=[2,1]\n",
        "print(validMountainArray(arr))"
      ],
      "metadata": {
        "colab": {
          "base_uri": "https://localhost:8080/"
        },
        "id": "lgjCTNXFDKhF",
        "outputId": "e5a017b9-ff9c-4407-f785-fad9c3f2892d"
      },
      "execution_count": 8,
      "outputs": [
        {
          "output_type": "stream",
          "name": "stdout",
          "text": [
            "False\n"
          ]
        }
      ]
    },
    {
      "cell_type": "markdown",
      "source": [
        "<aside>\n",
        "💡 **Question 4**\n",
        "\n",
        "Given a binary array nums, return *the maximum length of a contiguous subarray with an equal number of* 0 *and* 1.\n",
        "\n",
        "**Example 1:**\n",
        "\n",
        "**Input:** nums = [0,1]\n",
        "\n",
        "**Output:** 2\n",
        "\n",
        "**Explanation:**\n",
        "\n",
        "[0, 1] is the longest contiguous subarray with an equal number of 0 and 1.\n",
        "\n",
        "</aside>"
      ],
      "metadata": {
        "id": "22EAeZALpPiL"
      }
    },
    {
      "cell_type": "code",
      "source": [
        "def findMaxLength(nums):\n",
        "    count = 0\n",
        "    max_length = 0\n",
        "\n",
        "    count_dict = {0: -1}\n",
        "\n",
        "    for i in range(len(nums)):\n",
        "        if nums[i] == 0:\n",
        "            count -= 1\n",
        "        else:\n",
        "            count += 1\n",
        "\n",
        "        if count in count_dict:\n",
        "            max_length = max(max_length, i - count_dict[count])\n",
        "        else:\n",
        "\n",
        "            count_dict[count] = i\n",
        "\n",
        "    return max_length\n",
        "\n",
        "nums=[0,1]\n",
        "print(findMaxLength(nums))"
      ],
      "metadata": {
        "id": "7O4rPNy6pQCg",
        "colab": {
          "base_uri": "https://localhost:8080/"
        },
        "outputId": "1da7742c-b199-4407-9bab-16aa56e4380a"
      },
      "execution_count": 11,
      "outputs": [
        {
          "output_type": "stream",
          "name": "stdout",
          "text": [
            "2\n"
          ]
        }
      ]
    },
    {
      "cell_type": "markdown",
      "source": [
        "<aside>\n",
        "💡 **Question 5**\n",
        "\n",
        "The **product sum** of two equal-length arrays a and b is equal to the sum of a[i] * b[i] for all 0 <= i < a.length (**0-indexed**).\n",
        "\n",
        "- For example, if a = [1,2,3,4] and b = [5,2,3,1], the **product sum** would be 1*5 + 2*2 + 3*3 + 4*1 = 22.\n",
        "\n",
        "Given two arrays nums1 and nums2 of length n, return *the **minimum product sum** if you are allowed to **rearrange** the **order** of the elements in* nums1.\n",
        "\n",
        "**Example 1:**\n",
        "\n",
        "**Input:** nums1 = [5,3,4,2], nums2 = [4,2,2,5]\n",
        "\n",
        "**Output:** 40\n",
        "\n",
        "**Explanation:**\n",
        "\n",
        "We can rearrange nums1 to become [3,5,4,2]. The product sum of [3,5,4,2] and [4,2,2,5] is 3*4 + 5*2 + 4*2 + 2*5 = 40.\n",
        "\n",
        "</aside>"
      ],
      "metadata": {
        "id": "cc_lqO7_pfPt"
      }
    },
    {
      "cell_type": "code",
      "source": [
        "def minProductSum(nums1, nums2):\n",
        "    nums1.sort()\n",
        "    nums2.sort(reverse=True)\n",
        "    result = 0\n",
        "\n",
        "    for i in range(len(nums1)):\n",
        "        result += nums1[i] * nums2[i]\n",
        "\n",
        "    return result\n",
        "\n",
        "nums1 = [5,3,4,2]\n",
        "nums2 = [4,2,2,5]\n",
        "print(minProductSum(nums1,nums2))"
      ],
      "metadata": {
        "id": "myOc5OcgpfmU",
        "colab": {
          "base_uri": "https://localhost:8080/"
        },
        "outputId": "b6e9b5b7-4711-4f79-a398-0f236d858ad0"
      },
      "execution_count": 14,
      "outputs": [
        {
          "output_type": "stream",
          "name": "stdout",
          "text": [
            "40\n"
          ]
        }
      ]
    },
    {
      "cell_type": "markdown",
      "source": [
        "<aside>\n",
        "💡 **Question 6**\n",
        "\n",
        "An integer array original is transformed into a **doubled** array changed by appending **twice the value** of every element in original, and then randomly **shuffling** the resulting array.\n",
        "\n",
        "Given an array changed, return original *if* changed *is a **doubled** array. If* changed *is not a **doubled** array, return an empty array. The elements in* original *may be returned in **any** order*.\n",
        "\n",
        "**Example 1:**\n",
        "\n",
        "**Input:** changed = [1,3,4,2,6,8]\n",
        "\n",
        "**Output:** [1,3,4]\n",
        "\n",
        "**Explanation:** One possible original array could be [1,3,4]:\n",
        "\n",
        "- Twice the value of 1 is 1 * 2 = 2.\n",
        "- Twice the value of 3 is 3 * 2 = 6.\n",
        "- Twice the value of 4 is 4 * 2 = 8.\n",
        "\n",
        "Other original arrays could be [4,3,1] or [3,1,4].\n",
        "\n"
      ],
      "metadata": {
        "id": "HUZ4hjBmpjWI"
      }
    },
    {
      "cell_type": "code",
      "source": [
        "def double(arr):\n",
        "  n=len(arr)//2\n",
        "  ans=[]\n",
        "  for i in range(n):\n",
        "    res=arr[i]*2\n",
        "    if res in arr:\n",
        "      ans.append(arr[i])\n",
        "      i += 1\n",
        "    else:\n",
        "      return []\n",
        "  return ans\n",
        "\n",
        "arr= [1,3,4,2,6,8]\n",
        "print(double(arr))"
      ],
      "metadata": {
        "id": "XK8JiJqCpj4T",
        "colab": {
          "base_uri": "https://localhost:8080/"
        },
        "outputId": "35394fce-db1f-43d7-f807-0d9b9bcb91d3"
      },
      "execution_count": 9,
      "outputs": [
        {
          "output_type": "stream",
          "name": "stdout",
          "text": [
            "[1, 3, 4]\n"
          ]
        }
      ]
    },
    {
      "cell_type": "markdown",
      "source": [
        "<aside>\n",
        "💡 **Question 7**\n",
        "\n",
        "Given a positive integer n, generate an n x n matrix filled with elements from 1 to n2 in spiral order.\n",
        "\n",
        "**Example 1:**\n",
        "\n",
        "</aside>\n",
        "\n",
        "**Input:** n = 3\n",
        "\n",
        "**Output:** [[1,2,3],[8,9,4],[7,6,5]]"
      ],
      "metadata": {
        "id": "O-x-XbCipoYl"
      }
    },
    {
      "cell_type": "code",
      "source": [
        "def generateMatrix(n):\n",
        "    result = [[0] * n for _ in range(n)]\n",
        "    rowStart, rowEnd = 0, n - 1\n",
        "    colStart, colEnd = 0, n - 1\n",
        "    num = 1\n",
        "\n",
        "    while rowStart <= rowEnd and colStart <= colEnd:\n",
        "\n",
        "        for i in range(colStart, colEnd + 1):\n",
        "            result[rowStart][i] = num\n",
        "            num += 1\n",
        "        rowStart += 1\n",
        "\n",
        "        for i in range(rowStart, rowEnd + 1):\n",
        "            result[i][colEnd] = num\n",
        "            num += 1\n",
        "        colEnd -= 1\n",
        "\n",
        "        if rowStart <= rowEnd:\n",
        "            for i in range(colEnd, colStart - 1, -1):\n",
        "                result[rowEnd][i] = num\n",
        "                num += 1\n",
        "            rowEnd -= 1\n",
        "\n",
        "        if colStart <= colEnd:\n",
        "            for i in range(rowEnd, rowStart - 1, -1):\n",
        "                result[i][colStart] = num\n",
        "                num += 1\n",
        "            colStart += 1\n",
        "\n",
        "    return result\n",
        "\n",
        "n=3\n",
        "print(generateMatrix(n))"
      ],
      "metadata": {
        "id": "YmuV2gWOpoz4",
        "colab": {
          "base_uri": "https://localhost:8080/"
        },
        "outputId": "41bdeea2-1370-4e65-a97c-60c1f26c1a6e"
      },
      "execution_count": 17,
      "outputs": [
        {
          "output_type": "stream",
          "name": "stdout",
          "text": [
            "[[1, 2, 3], [8, 9, 4], [7, 6, 5]]\n"
          ]
        }
      ]
    },
    {
      "cell_type": "markdown",
      "source": [
        "<aside>\n",
        "💡 **Question 8**\n",
        "\n",
        "Given two [sparse matrices](https://en.wikipedia.org/wiki/Sparse_matrix) mat1 of size m x k and mat2 of size k x n, return the result of mat1 x mat2. You may assume that multiplication is always possible.\n",
        "\n",
        "**Example 1:**\n",
        "\n",
        "</aside>\n",
        "\n",
        "**Input:** mat1 = [[1,0,0],[-1,0,3]], mat2 = [[7,0,0],[0,0,0],[0,0,1]]\n",
        "\n",
        "**Output:**\n",
        "\n",
        "[[7,0,0],[-7,0,3]]"
      ],
      "metadata": {
        "id": "Vqseox_Fp95X"
      }
    },
    {
      "cell_type": "code",
      "source": [
        "def multiply(mat1, mat2):\n",
        "    m = len(mat1)\n",
        "    k = len(mat1[0])\n",
        "    n = len(mat2[0])\n",
        "\n",
        "    result = [[0] * n for _ in range(m)]\n",
        "\n",
        "    for i in range(m):\n",
        "        for j in range(k):\n",
        "            if mat1[i][j] != 0:\n",
        "                for l in range(n):\n",
        "                    result[i][l] += mat1[i][j] * mat2[j][l]\n",
        "\n",
        "    return result\n",
        "\n",
        "mat1 = [[1,0,0],[-1,0,3]]\n",
        "mat2 = [[7,0,0],[0,0,0],[0,0,1]]\n",
        "print(multiply(mat1,mat2))"
      ],
      "metadata": {
        "id": "ARx1MW7-p-Q4",
        "colab": {
          "base_uri": "https://localhost:8080/"
        },
        "outputId": "930635df-a3a9-4d1a-9bda-9bbb523ab3a2"
      },
      "execution_count": 15,
      "outputs": [
        {
          "output_type": "stream",
          "name": "stdout",
          "text": [
            "[[7, 0, 0], [-7, 0, 3]]\n"
          ]
        }
      ]
    },
    {
      "cell_type": "code",
      "source": [],
      "metadata": {
        "id": "AaLuJOzIKiyN"
      },
      "execution_count": null,
      "outputs": []
    }
  ]
}